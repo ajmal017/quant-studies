{
 "cells": [
  {
   "cell_type": "markdown",
   "metadata": {},
   "source": [
    "# The Basic Theory of Interest"
   ]
  },
  {
   "cell_type": "markdown",
   "metadata": {},
   "source": [
    "## Simple vs Compound Interest"
   ]
  },
  {
   "cell_type": "code",
   "execution_count": 48,
   "metadata": {},
   "outputs": [],
   "source": [
    "initial_value = 100\n",
    "\n",
    "length = 25 # years\n",
    "\n",
    "# Intervals\n",
    "# ----------\n",
    "# 1: compounds annually\n",
    "# 4: compounds quarterly\n",
    "# 12: compounds monthly\n",
    "# NULL: continuous compounding. TODO\n",
    "intervals = 4\n",
    "\n",
    "# Interest\n",
    "# ----------\n",
    "# This is yearly interest.\n",
    "# For monthly interest, set value * 12\n",
    "# e.g. with interest of 0.01 per month, this value is 0.12.\n",
    "nominal_rate = .08"
   ]
  },
  {
   "cell_type": "code",
   "execution_count": 50,
   "metadata": {},
   "outputs": [],
   "source": [
    "import pandas as pd\n",
    "import math\n",
    "cval = []\n",
    "sval = []\n",
    "for i in range(length+1):\n",
    "    cval.append(initial_value * (1+(nominal_rate/intervals))**(i*intervals))\n",
    "    sval.append(initial_value * (1+(nominal_rate*i)))\n",
    "\n",
    "data = pd.DataFrame(columns=['simple', 'compound'], data=zip(sval, cval))\n",
    "effective_interest = (1+(nominal_rate/intervals))**(intervals) - 1"
   ]
  },
  {
   "cell_type": "code",
   "execution_count": 51,
   "metadata": {},
   "outputs": [
    {
     "name": "stdout",
     "output_type": "stream",
     "text": [
      "Effective interest rate: 8.24%\n"
     ]
    }
   ],
   "source": [
    "print(\"Effective interest rate: {}%\".format(round(effective_interest*100,2)))"
   ]
  },
  {
   "cell_type": "code",
   "execution_count": 42,
   "metadata": {},
   "outputs": [
    {
     "data": {
      "text/html": [
       "<div>\n",
       "<style scoped>\n",
       "    .dataframe tbody tr th:only-of-type {\n",
       "        vertical-align: middle;\n",
       "    }\n",
       "\n",
       "    .dataframe tbody tr th {\n",
       "        vertical-align: top;\n",
       "    }\n",
       "\n",
       "    .dataframe thead th {\n",
       "        text-align: right;\n",
       "    }\n",
       "</style>\n",
       "<table border=\"1\" class=\"dataframe\">\n",
       "  <thead>\n",
       "    <tr style=\"text-align: right;\">\n",
       "      <th></th>\n",
       "      <th>simple</th>\n",
       "      <th>compound</th>\n",
       "    </tr>\n",
       "  </thead>\n",
       "  <tbody>\n",
       "    <tr>\n",
       "      <th>0</th>\n",
       "      <td>100.0</td>\n",
       "      <td>100.000000</td>\n",
       "    </tr>\n",
       "    <tr>\n",
       "      <th>1</th>\n",
       "      <td>110.0</td>\n",
       "      <td>110.000000</td>\n",
       "    </tr>\n",
       "    <tr>\n",
       "      <th>2</th>\n",
       "      <td>120.0</td>\n",
       "      <td>121.000000</td>\n",
       "    </tr>\n",
       "    <tr>\n",
       "      <th>3</th>\n",
       "      <td>130.0</td>\n",
       "      <td>133.100000</td>\n",
       "    </tr>\n",
       "    <tr>\n",
       "      <th>4</th>\n",
       "      <td>140.0</td>\n",
       "      <td>146.410000</td>\n",
       "    </tr>\n",
       "    <tr>\n",
       "      <th>5</th>\n",
       "      <td>150.0</td>\n",
       "      <td>161.051000</td>\n",
       "    </tr>\n",
       "    <tr>\n",
       "      <th>6</th>\n",
       "      <td>160.0</td>\n",
       "      <td>177.156100</td>\n",
       "    </tr>\n",
       "    <tr>\n",
       "      <th>7</th>\n",
       "      <td>170.0</td>\n",
       "      <td>194.871710</td>\n",
       "    </tr>\n",
       "    <tr>\n",
       "      <th>8</th>\n",
       "      <td>180.0</td>\n",
       "      <td>214.358881</td>\n",
       "    </tr>\n",
       "    <tr>\n",
       "      <th>9</th>\n",
       "      <td>190.0</td>\n",
       "      <td>235.794769</td>\n",
       "    </tr>\n",
       "    <tr>\n",
       "      <th>10</th>\n",
       "      <td>200.0</td>\n",
       "      <td>259.374246</td>\n",
       "    </tr>\n",
       "    <tr>\n",
       "      <th>11</th>\n",
       "      <td>210.0</td>\n",
       "      <td>285.311671</td>\n",
       "    </tr>\n",
       "    <tr>\n",
       "      <th>12</th>\n",
       "      <td>220.0</td>\n",
       "      <td>313.842838</td>\n",
       "    </tr>\n",
       "    <tr>\n",
       "      <th>13</th>\n",
       "      <td>230.0</td>\n",
       "      <td>345.227121</td>\n",
       "    </tr>\n",
       "    <tr>\n",
       "      <th>14</th>\n",
       "      <td>240.0</td>\n",
       "      <td>379.749834</td>\n",
       "    </tr>\n",
       "    <tr>\n",
       "      <th>15</th>\n",
       "      <td>250.0</td>\n",
       "      <td>417.724817</td>\n",
       "    </tr>\n",
       "    <tr>\n",
       "      <th>16</th>\n",
       "      <td>260.0</td>\n",
       "      <td>459.497299</td>\n",
       "    </tr>\n",
       "    <tr>\n",
       "      <th>17</th>\n",
       "      <td>270.0</td>\n",
       "      <td>505.447028</td>\n",
       "    </tr>\n",
       "    <tr>\n",
       "      <th>18</th>\n",
       "      <td>280.0</td>\n",
       "      <td>555.991731</td>\n",
       "    </tr>\n",
       "    <tr>\n",
       "      <th>19</th>\n",
       "      <td>290.0</td>\n",
       "      <td>611.590904</td>\n",
       "    </tr>\n",
       "    <tr>\n",
       "      <th>20</th>\n",
       "      <td>300.0</td>\n",
       "      <td>672.749995</td>\n",
       "    </tr>\n",
       "    <tr>\n",
       "      <th>21</th>\n",
       "      <td>310.0</td>\n",
       "      <td>740.024994</td>\n",
       "    </tr>\n",
       "    <tr>\n",
       "      <th>22</th>\n",
       "      <td>320.0</td>\n",
       "      <td>814.027494</td>\n",
       "    </tr>\n",
       "    <tr>\n",
       "      <th>23</th>\n",
       "      <td>330.0</td>\n",
       "      <td>895.430243</td>\n",
       "    </tr>\n",
       "    <tr>\n",
       "      <th>24</th>\n",
       "      <td>340.0</td>\n",
       "      <td>984.973268</td>\n",
       "    </tr>\n",
       "    <tr>\n",
       "      <th>25</th>\n",
       "      <td>350.0</td>\n",
       "      <td>1083.470594</td>\n",
       "    </tr>\n",
       "  </tbody>\n",
       "</table>\n",
       "</div>"
      ],
      "text/plain": [
       "    simple     compound\n",
       "0    100.0   100.000000\n",
       "1    110.0   110.000000\n",
       "2    120.0   121.000000\n",
       "3    130.0   133.100000\n",
       "4    140.0   146.410000\n",
       "5    150.0   161.051000\n",
       "6    160.0   177.156100\n",
       "7    170.0   194.871710\n",
       "8    180.0   214.358881\n",
       "9    190.0   235.794769\n",
       "10   200.0   259.374246\n",
       "11   210.0   285.311671\n",
       "12   220.0   313.842838\n",
       "13   230.0   345.227121\n",
       "14   240.0   379.749834\n",
       "15   250.0   417.724817\n",
       "16   260.0   459.497299\n",
       "17   270.0   505.447028\n",
       "18   280.0   555.991731\n",
       "19   290.0   611.590904\n",
       "20   300.0   672.749995\n",
       "21   310.0   740.024994\n",
       "22   320.0   814.027494\n",
       "23   330.0   895.430243\n",
       "24   340.0   984.973268\n",
       "25   350.0  1083.470594"
      ]
     },
     "execution_count": 42,
     "metadata": {},
     "output_type": "execute_result"
    }
   ],
   "source": [
    "data"
   ]
  },
  {
   "cell_type": "code",
   "execution_count": 52,
   "metadata": {},
   "outputs": [
    {
     "data": {
      "image/png": "[encoded data removed]",
      "text/plain": [
       "<Figure size 1080x576 with 1 Axes>"
      ]
     },
     "metadata": {
      "needs_background": "light"
     },
     "output_type": "display_data"
    }
   ],
   "source": [
    "_ = data.plot.bar(figsize=(15,8))"
   ]
  },
  {
   "cell_type": "code",
   "execution_count": null,
   "metadata": {},
   "outputs": [],
   "source": []
  }
 ],
 "metadata": {
  "kernelspec": {
   "display_name": "Python 3",
   "language": "python",
   "name": "python3"
  },
  "language_info": {
   "codemirror_mode": {
    "name": "ipython",
    "version": 3
   },
   "file_extension": ".py",
   "mimetype": "text/x-python",
   "name": "python",
   "nbconvert_exporter": "python",
   "pygments_lexer": "ipython3",
   "version": "3.5.9"
  }
 },
 "nbformat": 4,
 "nbformat_minor": 4
}
